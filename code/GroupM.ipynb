{
 "cells": [
  {
   "cell_type": "markdown",
   "metadata": {},
   "source": [
    "#### ST449 Final Project"
   ]
  },
  {
   "cell_type": "markdown",
   "metadata": {},
   "source": [
    "#### Connect4 Best Bots and Modifications"
   ]
  },
  {
   "cell_type": "markdown",
   "metadata": {},
   "source": []
  },
  {
   "cell_type": "code",
   "execution_count": 10,
   "metadata": {},
   "outputs": [],
   "source": [
    "# imports\n",
    "import numpy as np\n",
    "import sys\n",
    "import pygame\n",
    "import math\n",
    "import random\n",
    "import pandas as pd\n",
    "# from aima_python_master.utils4e  import *\n",
    "# from aima_python_master.games4e  import *\n"
   ]
  },
  {
   "cell_type": "markdown",
   "metadata": {},
   "source": [
    "#### Generating the Board"
   ]
  },
  {
   "cell_type": "code",
   "execution_count": 11,
   "metadata": {},
   "outputs": [],
   "source": [
    "ROW_COUNT = 6\n",
    "COLUMN_COUNT = 7\n",
    "\n",
    "def create_board(ROW_COUNT, COLUMN_COUNT):\n",
    "\tboard = np.zeros((ROW_COUNT,COLUMN_COUNT), dtype= int)\n",
    "\treturn board\n",
    "\n",
    "def drop_piece(board, row, col, piece):\n",
    "\tboard[row][col] = piece\n",
    "\n",
    "def is_valid_location(board, col):\n",
    "\treturn board[ROW_COUNT-1][col] == 0\n",
    "\n",
    "def get_next_open_row(board, col):\n",
    "\tfor r in range(ROW_COUNT):\n",
    "\t\tif board[r][col] == 0:\n",
    "\t\t\treturn r\n",
    "\n",
    "def print_board(board):\n",
    "\tprint(np.flip(board, 0))\n",
    "\n",
    "def winning_move(board, piece):\n",
    "\t# Check horizontal locations for win\n",
    "\tfor c in range(COLUMN_COUNT-3):\n",
    "\t\tfor r in range(ROW_COUNT):\n",
    "\t\t\tif board[r][c] == piece and board[r][c+1] == piece and board[r][c+2] == piece and board[r][c+3] == piece:\n",
    "\t\t\t\treturn True\n",
    "\n",
    "\t# Check vertical locations for win\n",
    "\tfor c in range(COLUMN_COUNT):\n",
    "\t\tfor r in range(ROW_COUNT-3):\n",
    "\t\t\tif board[r][c] == piece and board[r+1][c] == piece and board[r+2][c] == piece and board[r+3][c] == piece:\n",
    "\t\t\t\treturn True\n",
    "\n",
    "\t# Check positively sloped diagonals\n",
    "\tfor c in range(COLUMN_COUNT-3):\n",
    "\t\tfor r in range(ROW_COUNT-3):\n",
    "\t\t\tif board[r][c] == piece and board[r+1][c+1] == piece and board[r+2][c+2] == piece and board[r+3][c+3] == piece:\n",
    "\t\t\t\treturn True\n",
    "\n",
    "\t# Check negatively sloped diagonals\n",
    "\tfor c in range(COLUMN_COUNT-3):\n",
    "\t\tfor r in range(3, ROW_COUNT):\n",
    "\t\t\tif board[r][c] == piece and board[r-1][c+1] == piece and board[r-2][c+2] == piece and board[r-3][c+3] == piece:\n",
    "\t\t\t\treturn True\n",
    "\n",
    "\n",
    "def generate_board_size(rows, columns):\n",
    "\tboard = create_board(rows, columns)\n",
    "\treturn board "
   ]
  },
  {
   "cell_type": "markdown",
   "metadata": {},
   "source": [
    "#### Players (Bots)"
   ]
  },
  {
   "cell_type": "code",
   "execution_count": 5,
   "metadata": {},
   "outputs": [],
   "source": [
    "# Random bot\n",
    "def bot_move(board, piece):\n",
    "    valid_locations = [col for col in range(COLUMN_COUNT) if is_valid_location(board, col)]\n",
    "    col = random.choice(valid_locations)\n",
    "    row = get_next_open_row(board, col)\n",
    "    drop_piece(board, row, col, piece)"
   ]
  },
  {
   "cell_type": "code",
   "execution_count": 14,
   "metadata": {},
   "outputs": [],
   "source": [
    "class Connect4Game:\n",
    "    def __init__(self, board, piece):\n",
    "        self.board = board\n",
    "        self.piece = piece\n",
    "\n",
    "    def to_move(self, state):\n",
    "        return self.piece\n",
    "\n",
    "    def actions(self, state):\n",
    "        return [col for col in range(COLUMN_COUNT) if is_valid_location(state, col)]\n",
    "\n",
    "    def result(self, state, action):\n",
    "        new_state = state.copy()\n",
    "        row = get_next_open_row(new_state, action)\n",
    "        drop_piece(new_state, row, action, self.piece)\n",
    "        return new_state\n",
    "\n",
    "    def terminal_test(self, state):\n",
    "        return winning_move(state, self.piece) or winning_move(state, 3 - self.piece) or len(self.actions(state)) == 0\n",
    "\n",
    "    def utility(self, state, player): # Should go over this\n",
    "        if winning_move(state, player):\n",
    "            return 1\n",
    "        elif winning_move(state, 3 - player):\n",
    "            return -1\n",
    "        else:\n",
    "            return 0\n",
    "        \n"
   ]
  },
  {
   "cell_type": "code",
   "execution_count": 15,
   "metadata": {},
   "outputs": [],
   "source": [
    "# Alpha Beta (Yonatan)\n",
    "def alpha_beta_search(state, game):\n",
    "    \"\"\"Search game to determine best action; use alpha-beta pruning.\n",
    "    As in [Figure 5.7], this version searches all the way to the leaves.\"\"\"\n",
    "\n",
    "    player = game.to_move(state)\n",
    "\n",
    "    # Functions used by alpha_beta\n",
    "    def max_value(state, alpha, beta):\n",
    "        if game.terminal_test(state):\n",
    "            return game.utility(state, player)\n",
    "        v = -np.inf\n",
    "        for a in game.actions(state):\n",
    "            v = max(v, min_value(game.result(state, a), alpha, beta))\n",
    "            if v >= beta:\n",
    "                return v\n",
    "            alpha = max(alpha, v)\n",
    "        return v\n",
    "\n",
    "    def min_value(state, alpha, beta):\n",
    "        if game.terminal_test(state):\n",
    "            return game.utility(state, player)\n",
    "        v = np.inf\n",
    "        for a in game.actions(state):\n",
    "            v = min(v, max_value(game.result(state, a), alpha, beta))\n",
    "            if v <= alpha:\n",
    "                return v\n",
    "            beta = min(beta, v)\n",
    "        return v\n",
    "\n",
    "    # Body of alpha_beta_search:\n",
    "    best_score = -np.inf\n",
    "    beta = np.inf\n",
    "    best_action = None\n",
    "    for a in game.actions(state):\n",
    "        v = min_value(game.result(state, a), best_score, beta)\n",
    "        if v > best_score:\n",
    "            best_score = v\n",
    "            best_action = a\n",
    "    return best_action\n",
    "\n",
    "\n",
    "def alpha_beta_bot(board, piece):\n",
    "    game = Connect4Game(board, piece)\n",
    "    col = alpha_beta_search(board, game)\n",
    "    row = get_next_open_row(board, col)\n",
    "    drop_piece(board, row, col, piece)"
   ]
  },
  {
   "cell_type": "code",
   "execution_count": null,
   "metadata": {},
   "outputs": [],
   "source": []
  },
  {
   "cell_type": "code",
   "execution_count": null,
   "metadata": {},
   "outputs": [],
   "source": []
  },
  {
   "cell_type": "code",
   "execution_count": null,
   "metadata": {},
   "outputs": [],
   "source": []
  },
  {
   "cell_type": "code",
   "execution_count": null,
   "metadata": {},
   "outputs": [],
   "source": []
  },
  {
   "cell_type": "markdown",
   "metadata": {},
   "source": [
    "#### Play Game"
   ]
  },
  {
   "cell_type": "code",
   "execution_count": null,
   "metadata": {},
   "outputs": [],
   "source": [
    "board = generate_board_size(6,7)\n",
    "game_over = False\n",
    "turn = 0\n",
    "\n",
    "while not game_over:\n",
    "    # Bot 1 move\n",
    "    if turn == 0:\n",
    "        bot_move(board, 1)\n",
    "        if winning_move(board, 1):\n",
    "            print(\"Bot 1 wins!\")\n",
    "            game_over = True\n",
    "\n",
    "    # Bot 2 move\n",
    "    else:\n",
    "        alpha_beta_bot(board, 2)\n",
    "        if winning_move(board, 2):\n",
    "            print(\"Bot 2 wins!\")\n",
    "            game_over = True\n",
    "\n",
    "    print_board(board)\n",
    "    turn += 1\n",
    "    turn = turn % 2\n",
    "    "
   ]
  },
  {
   "cell_type": "code",
   "execution_count": null,
   "metadata": {},
   "outputs": [],
   "source": [
    "## Output shpould be matrix of how well each bot did in a number of n games against the other bots (first move randomly chosen)"
   ]
  },
  {
   "cell_type": "markdown",
   "metadata": {},
   "source": [
    "#### Play Game (Different Rules)"
   ]
  },
  {
   "cell_type": "markdown",
   "metadata": {},
   "source": []
  }
 ],
 "metadata": {
  "kernelspec": {
   "display_name": "ST449paserman",
   "language": "python",
   "name": "python3"
  },
  "language_info": {
   "codemirror_mode": {
    "name": "ipython",
    "version": 3
   },
   "file_extension": ".py",
   "mimetype": "text/x-python",
   "name": "python",
   "nbconvert_exporter": "python",
   "pygments_lexer": "ipython3",
   "version": "3.13.0"
  }
 },
 "nbformat": 4,
 "nbformat_minor": 2
}
